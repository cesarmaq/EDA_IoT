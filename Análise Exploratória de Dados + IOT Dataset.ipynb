{
 "cells": [
  {
   "cell_type": "markdown",
   "id": "415f421c",
   "metadata": {},
   "source": [
    "<h2>Importar dependências</h2>"
   ]
  },
  {
   "cell_type": "code",
   "execution_count": 1,
   "id": "fdc4c045",
   "metadata": {},
   "outputs": [],
   "source": [
    "import pandas as pd\n",
    "import numpy as np\n",
    "import seaborn as sns\n",
    "import matplotlib.pyplot as plt\n",
    "plt.style.use('seaborn')\n",
    "%matplotlib inline"
   ]
  },
  {
   "cell_type": "markdown",
   "id": "cedb4072",
   "metadata": {},
   "source": [
    "<h2>Escolha de dataset</h2>"
   ]
  },
  {
   "cell_type": "code",
   "execution_count": 2,
   "id": "7b79d187",
   "metadata": {},
   "outputs": [
    {
     "data": {
      "text/html": [
       "<div>\n",
       "<style scoped>\n",
       "    .dataframe tbody tr th:only-of-type {\n",
       "        vertical-align: middle;\n",
       "    }\n",
       "\n",
       "    .dataframe tbody tr th {\n",
       "        vertical-align: top;\n",
       "    }\n",
       "\n",
       "    .dataframe thead th {\n",
       "        text-align: right;\n",
       "    }\n",
       "</style>\n",
       "<table border=\"1\" class=\"dataframe\">\n",
       "  <thead>\n",
       "    <tr style=\"text-align: right;\">\n",
       "      <th></th>\n",
       "      <th>Datasets</th>\n",
       "      <th>Environmental Sensor Telemetry Data</th>\n",
       "    </tr>\n",
       "  </thead>\n",
       "  <tbody>\n",
       "    <tr>\n",
       "      <th>0</th>\n",
       "      <td>Fonte</td>\n",
       "      <td>https://www.kaggle.com/garystafford/environmen...</td>\n",
       "    </tr>\n",
       "    <tr>\n",
       "      <th>1</th>\n",
       "      <td>Autor</td>\n",
       "      <td>Gary A. Stafford</td>\n",
       "    </tr>\n",
       "    <tr>\n",
       "      <th>2</th>\n",
       "      <td>Mantenedor</td>\n",
       "      <td>Gary A. Stafford</td>\n",
       "    </tr>\n",
       "    <tr>\n",
       "      <th>3</th>\n",
       "      <td>Última Atualização</td>\n",
       "      <td>2020-07-20</td>\n",
       "    </tr>\n",
       "    <tr>\n",
       "      <th>4</th>\n",
       "      <td>Abrangência</td>\n",
       "      <td>Não Informado</td>\n",
       "    </tr>\n",
       "    <tr>\n",
       "      <th>5</th>\n",
       "      <td>Licença</td>\n",
       "      <td>Domínio Público</td>\n",
       "    </tr>\n",
       "    <tr>\n",
       "      <th>6</th>\n",
       "      <td>Formato</td>\n",
       "      <td>CSV</td>\n",
       "    </tr>\n",
       "  </tbody>\n",
       "</table>\n",
       "</div>"
      ],
      "text/plain": [
       "             Datasets                Environmental Sensor Telemetry Data\n",
       "0               Fonte  https://www.kaggle.com/garystafford/environmen...\n",
       "1               Autor                                   Gary A. Stafford\n",
       "2          Mantenedor                                   Gary A. Stafford\n",
       "3  Última Atualização                                         2020-07-20\n",
       "4         Abrangência                                      Não Informado\n",
       "5             Licença                                    Domínio Público\n",
       "6             Formato                                                CSV"
      ]
     },
     "execution_count": 2,
     "metadata": {},
     "output_type": "execute_result"
    }
   ],
   "source": [
    "# informações sobre datasets\n",
    "df_info = pd.read_csv('data/info.csv')\n",
    "df_info"
   ]
  },
  {
   "cell_type": "code",
   "execution_count": 3,
   "id": "1d944d5b",
   "metadata": {},
   "outputs": [],
   "source": [
    "df = pd.read_csv('data/iot_telemetry_data.csv')"
   ]
  },
  {
   "cell_type": "code",
   "execution_count": 4,
   "id": "121c03df",
   "metadata": {},
   "outputs": [
    {
     "data": {
      "text/html": [
       "<div>\n",
       "<style scoped>\n",
       "    .dataframe tbody tr th:only-of-type {\n",
       "        vertical-align: middle;\n",
       "    }\n",
       "\n",
       "    .dataframe tbody tr th {\n",
       "        vertical-align: top;\n",
       "    }\n",
       "\n",
       "    .dataframe thead th {\n",
       "        text-align: right;\n",
       "    }\n",
       "</style>\n",
       "<table border=\"1\" class=\"dataframe\">\n",
       "  <thead>\n",
       "    <tr style=\"text-align: right;\">\n",
       "      <th></th>\n",
       "      <th>ts</th>\n",
       "      <th>device</th>\n",
       "      <th>co</th>\n",
       "      <th>humidity</th>\n",
       "      <th>light</th>\n",
       "      <th>lpg</th>\n",
       "      <th>motion</th>\n",
       "      <th>smoke</th>\n",
       "      <th>temp</th>\n",
       "    </tr>\n",
       "  </thead>\n",
       "  <tbody>\n",
       "    <tr>\n",
       "      <th>0</th>\n",
       "      <td>1.594512e+09</td>\n",
       "      <td>b8:27:eb:bf:9d:51</td>\n",
       "      <td>0.004956</td>\n",
       "      <td>51.000000</td>\n",
       "      <td>False</td>\n",
       "      <td>0.007651</td>\n",
       "      <td>False</td>\n",
       "      <td>0.020411</td>\n",
       "      <td>22.700000</td>\n",
       "    </tr>\n",
       "    <tr>\n",
       "      <th>1</th>\n",
       "      <td>1.594512e+09</td>\n",
       "      <td>00:0f:00:70:91:0a</td>\n",
       "      <td>0.002840</td>\n",
       "      <td>76.000000</td>\n",
       "      <td>False</td>\n",
       "      <td>0.005114</td>\n",
       "      <td>False</td>\n",
       "      <td>0.013275</td>\n",
       "      <td>19.700001</td>\n",
       "    </tr>\n",
       "    <tr>\n",
       "      <th>2</th>\n",
       "      <td>1.594512e+09</td>\n",
       "      <td>b8:27:eb:bf:9d:51</td>\n",
       "      <td>0.004976</td>\n",
       "      <td>50.900000</td>\n",
       "      <td>False</td>\n",
       "      <td>0.007673</td>\n",
       "      <td>False</td>\n",
       "      <td>0.020475</td>\n",
       "      <td>22.600000</td>\n",
       "    </tr>\n",
       "    <tr>\n",
       "      <th>3</th>\n",
       "      <td>1.594512e+09</td>\n",
       "      <td>1c:bf:ce:15:ec:4d</td>\n",
       "      <td>0.004403</td>\n",
       "      <td>76.800003</td>\n",
       "      <td>True</td>\n",
       "      <td>0.007023</td>\n",
       "      <td>False</td>\n",
       "      <td>0.018628</td>\n",
       "      <td>27.000000</td>\n",
       "    </tr>\n",
       "    <tr>\n",
       "      <th>4</th>\n",
       "      <td>1.594512e+09</td>\n",
       "      <td>b8:27:eb:bf:9d:51</td>\n",
       "      <td>0.004967</td>\n",
       "      <td>50.900000</td>\n",
       "      <td>False</td>\n",
       "      <td>0.007664</td>\n",
       "      <td>False</td>\n",
       "      <td>0.020448</td>\n",
       "      <td>22.600000</td>\n",
       "    </tr>\n",
       "  </tbody>\n",
       "</table>\n",
       "</div>"
      ],
      "text/plain": [
       "             ts             device        co   humidity  light       lpg  \\\n",
       "0  1.594512e+09  b8:27:eb:bf:9d:51  0.004956  51.000000  False  0.007651   \n",
       "1  1.594512e+09  00:0f:00:70:91:0a  0.002840  76.000000  False  0.005114   \n",
       "2  1.594512e+09  b8:27:eb:bf:9d:51  0.004976  50.900000  False  0.007673   \n",
       "3  1.594512e+09  1c:bf:ce:15:ec:4d  0.004403  76.800003   True  0.007023   \n",
       "4  1.594512e+09  b8:27:eb:bf:9d:51  0.004967  50.900000  False  0.007664   \n",
       "\n",
       "   motion     smoke       temp  \n",
       "0   False  0.020411  22.700000  \n",
       "1   False  0.013275  19.700001  \n",
       "2   False  0.020475  22.600000  \n",
       "3   False  0.018628  27.000000  \n",
       "4   False  0.020448  22.600000  "
      ]
     },
     "execution_count": 4,
     "metadata": {},
     "output_type": "execute_result"
    }
   ],
   "source": [
    "df.head()"
   ]
  },
  {
   "cell_type": "code",
   "execution_count": 5,
   "id": "0b07951d",
   "metadata": {},
   "outputs": [],
   "source": [
    "# transformar a coluna ts (time stamp) para o tempo que conseguimos entender\n",
    "df['time_stamp'] = pd.to_datetime(df['ts'], unit='s')\n",
    "df.drop(columns=['ts'], inplace = True)"
   ]
  },
  {
   "cell_type": "code",
   "execution_count": 6,
   "id": "05bc6502",
   "metadata": {},
   "outputs": [
    {
     "data": {
      "text/html": [
       "<div>\n",
       "<style scoped>\n",
       "    .dataframe tbody tr th:only-of-type {\n",
       "        vertical-align: middle;\n",
       "    }\n",
       "\n",
       "    .dataframe tbody tr th {\n",
       "        vertical-align: top;\n",
       "    }\n",
       "\n",
       "    .dataframe thead th {\n",
       "        text-align: right;\n",
       "    }\n",
       "</style>\n",
       "<table border=\"1\" class=\"dataframe\">\n",
       "  <thead>\n",
       "    <tr style=\"text-align: right;\">\n",
       "      <th></th>\n",
       "      <th>device</th>\n",
       "      <th>co</th>\n",
       "      <th>humidity</th>\n",
       "      <th>light</th>\n",
       "      <th>lpg</th>\n",
       "      <th>motion</th>\n",
       "      <th>smoke</th>\n",
       "      <th>temp</th>\n",
       "      <th>time_stamp</th>\n",
       "    </tr>\n",
       "  </thead>\n",
       "  <tbody>\n",
       "    <tr>\n",
       "      <th>0</th>\n",
       "      <td>b8:27:eb:bf:9d:51</td>\n",
       "      <td>0.004956</td>\n",
       "      <td>51.000000</td>\n",
       "      <td>False</td>\n",
       "      <td>0.007651</td>\n",
       "      <td>False</td>\n",
       "      <td>0.020411</td>\n",
       "      <td>22.700000</td>\n",
       "      <td>2020-07-12 00:01:34.385974528</td>\n",
       "    </tr>\n",
       "    <tr>\n",
       "      <th>1</th>\n",
       "      <td>00:0f:00:70:91:0a</td>\n",
       "      <td>0.002840</td>\n",
       "      <td>76.000000</td>\n",
       "      <td>False</td>\n",
       "      <td>0.005114</td>\n",
       "      <td>False</td>\n",
       "      <td>0.013275</td>\n",
       "      <td>19.700001</td>\n",
       "      <td>2020-07-12 00:01:34.735567616</td>\n",
       "    </tr>\n",
       "    <tr>\n",
       "      <th>2</th>\n",
       "      <td>b8:27:eb:bf:9d:51</td>\n",
       "      <td>0.004976</td>\n",
       "      <td>50.900000</td>\n",
       "      <td>False</td>\n",
       "      <td>0.007673</td>\n",
       "      <td>False</td>\n",
       "      <td>0.020475</td>\n",
       "      <td>22.600000</td>\n",
       "      <td>2020-07-12 00:01:38.073572864</td>\n",
       "    </tr>\n",
       "    <tr>\n",
       "      <th>3</th>\n",
       "      <td>1c:bf:ce:15:ec:4d</td>\n",
       "      <td>0.004403</td>\n",
       "      <td>76.800003</td>\n",
       "      <td>True</td>\n",
       "      <td>0.007023</td>\n",
       "      <td>False</td>\n",
       "      <td>0.018628</td>\n",
       "      <td>27.000000</td>\n",
       "      <td>2020-07-12 00:01:39.589145856</td>\n",
       "    </tr>\n",
       "    <tr>\n",
       "      <th>4</th>\n",
       "      <td>b8:27:eb:bf:9d:51</td>\n",
       "      <td>0.004967</td>\n",
       "      <td>50.900000</td>\n",
       "      <td>False</td>\n",
       "      <td>0.007664</td>\n",
       "      <td>False</td>\n",
       "      <td>0.020448</td>\n",
       "      <td>22.600000</td>\n",
       "      <td>2020-07-12 00:01:41.761234944</td>\n",
       "    </tr>\n",
       "    <tr>\n",
       "      <th>...</th>\n",
       "      <td>...</td>\n",
       "      <td>...</td>\n",
       "      <td>...</td>\n",
       "      <td>...</td>\n",
       "      <td>...</td>\n",
       "      <td>...</td>\n",
       "      <td>...</td>\n",
       "      <td>...</td>\n",
       "      <td>...</td>\n",
       "    </tr>\n",
       "    <tr>\n",
       "      <th>405179</th>\n",
       "      <td>00:0f:00:70:91:0a</td>\n",
       "      <td>0.003745</td>\n",
       "      <td>75.300003</td>\n",
       "      <td>False</td>\n",
       "      <td>0.006247</td>\n",
       "      <td>False</td>\n",
       "      <td>0.016437</td>\n",
       "      <td>19.200001</td>\n",
       "      <td>2020-07-20 00:03:33.162014976</td>\n",
       "    </tr>\n",
       "    <tr>\n",
       "      <th>405180</th>\n",
       "      <td>b8:27:eb:bf:9d:51</td>\n",
       "      <td>0.005882</td>\n",
       "      <td>48.500000</td>\n",
       "      <td>False</td>\n",
       "      <td>0.008660</td>\n",
       "      <td>False</td>\n",
       "      <td>0.023301</td>\n",
       "      <td>22.200000</td>\n",
       "      <td>2020-07-20 00:03:33.576560640</td>\n",
       "    </tr>\n",
       "    <tr>\n",
       "      <th>405181</th>\n",
       "      <td>1c:bf:ce:15:ec:4d</td>\n",
       "      <td>0.004540</td>\n",
       "      <td>75.699997</td>\n",
       "      <td>True</td>\n",
       "      <td>0.007181</td>\n",
       "      <td>False</td>\n",
       "      <td>0.019076</td>\n",
       "      <td>26.600000</td>\n",
       "      <td>2020-07-20 00:03:36.167959296</td>\n",
       "    </tr>\n",
       "    <tr>\n",
       "      <th>405182</th>\n",
       "      <td>00:0f:00:70:91:0a</td>\n",
       "      <td>0.003745</td>\n",
       "      <td>75.300003</td>\n",
       "      <td>False</td>\n",
       "      <td>0.006247</td>\n",
       "      <td>False</td>\n",
       "      <td>0.016437</td>\n",
       "      <td>19.200001</td>\n",
       "      <td>2020-07-20 00:03:36.979521536</td>\n",
       "    </tr>\n",
       "    <tr>\n",
       "      <th>405183</th>\n",
       "      <td>b8:27:eb:bf:9d:51</td>\n",
       "      <td>0.005914</td>\n",
       "      <td>48.400000</td>\n",
       "      <td>False</td>\n",
       "      <td>0.008695</td>\n",
       "      <td>False</td>\n",
       "      <td>0.023400</td>\n",
       "      <td>22.200000</td>\n",
       "      <td>2020-07-20 00:03:37.264312576</td>\n",
       "    </tr>\n",
       "  </tbody>\n",
       "</table>\n",
       "<p>405184 rows × 9 columns</p>\n",
       "</div>"
      ],
      "text/plain": [
       "                   device        co   humidity  light       lpg  motion  \\\n",
       "0       b8:27:eb:bf:9d:51  0.004956  51.000000  False  0.007651   False   \n",
       "1       00:0f:00:70:91:0a  0.002840  76.000000  False  0.005114   False   \n",
       "2       b8:27:eb:bf:9d:51  0.004976  50.900000  False  0.007673   False   \n",
       "3       1c:bf:ce:15:ec:4d  0.004403  76.800003   True  0.007023   False   \n",
       "4       b8:27:eb:bf:9d:51  0.004967  50.900000  False  0.007664   False   \n",
       "...                   ...       ...        ...    ...       ...     ...   \n",
       "405179  00:0f:00:70:91:0a  0.003745  75.300003  False  0.006247   False   \n",
       "405180  b8:27:eb:bf:9d:51  0.005882  48.500000  False  0.008660   False   \n",
       "405181  1c:bf:ce:15:ec:4d  0.004540  75.699997   True  0.007181   False   \n",
       "405182  00:0f:00:70:91:0a  0.003745  75.300003  False  0.006247   False   \n",
       "405183  b8:27:eb:bf:9d:51  0.005914  48.400000  False  0.008695   False   \n",
       "\n",
       "           smoke       temp                    time_stamp  \n",
       "0       0.020411  22.700000 2020-07-12 00:01:34.385974528  \n",
       "1       0.013275  19.700001 2020-07-12 00:01:34.735567616  \n",
       "2       0.020475  22.600000 2020-07-12 00:01:38.073572864  \n",
       "3       0.018628  27.000000 2020-07-12 00:01:39.589145856  \n",
       "4       0.020448  22.600000 2020-07-12 00:01:41.761234944  \n",
       "...          ...        ...                           ...  \n",
       "405179  0.016437  19.200001 2020-07-20 00:03:33.162014976  \n",
       "405180  0.023301  22.200000 2020-07-20 00:03:33.576560640  \n",
       "405181  0.019076  26.600000 2020-07-20 00:03:36.167959296  \n",
       "405182  0.016437  19.200001 2020-07-20 00:03:36.979521536  \n",
       "405183  0.023400  22.200000 2020-07-20 00:03:37.264312576  \n",
       "\n",
       "[405184 rows x 9 columns]"
      ]
     },
     "execution_count": 6,
     "metadata": {},
     "output_type": "execute_result"
    }
   ],
   "source": [
    "df"
   ]
  },
  {
   "cell_type": "code",
   "execution_count": 7,
   "id": "756cf7a1",
   "metadata": {},
   "outputs": [
    {
     "name": "stdout",
     "output_type": "stream",
     "text": [
      "<class 'pandas.core.frame.DataFrame'>\n",
      "RangeIndex: 405184 entries, 0 to 405183\n",
      "Data columns (total 9 columns):\n",
      " #   Column      Non-Null Count   Dtype         \n",
      "---  ------      --------------   -----         \n",
      " 0   device      405184 non-null  object        \n",
      " 1   co          405184 non-null  float64       \n",
      " 2   humidity    405184 non-null  float64       \n",
      " 3   light       405184 non-null  bool          \n",
      " 4   lpg         405184 non-null  float64       \n",
      " 5   motion      405184 non-null  bool          \n",
      " 6   smoke       405184 non-null  float64       \n",
      " 7   temp        405184 non-null  float64       \n",
      " 8   time_stamp  405184 non-null  datetime64[ns]\n",
      "dtypes: bool(2), datetime64[ns](1), float64(5), object(1)\n",
      "memory usage: 22.4+ MB\n"
     ]
    }
   ],
   "source": [
    "df.info()"
   ]
  },
  {
   "cell_type": "code",
   "execution_count": 8,
   "id": "027067db",
   "metadata": {},
   "outputs": [
    {
     "data": {
      "text/plain": [
       "array(['b8:27:eb:bf:9d:51', '00:0f:00:70:91:0a', '1c:bf:ce:15:ec:4d'],\n",
       "      dtype=object)"
      ]
     },
     "execution_count": 8,
     "metadata": {},
     "output_type": "execute_result"
    }
   ],
   "source": [
    "df['device'].unique()"
   ]
  },
  {
   "cell_type": "code",
   "execution_count": 9,
   "id": "d26f40fe",
   "metadata": {},
   "outputs": [
    {
     "data": {
      "text/plain": [
       "(405184, 9)"
      ]
     },
     "execution_count": 9,
     "metadata": {},
     "output_type": "execute_result"
    }
   ],
   "source": [
    "df.shape"
   ]
  },
  {
   "cell_type": "code",
   "execution_count": 10,
   "id": "0aaf5aff",
   "metadata": {},
   "outputs": [
    {
     "data": {
      "text/plain": [
       "device                object\n",
       "co                   float64\n",
       "humidity             float64\n",
       "light                   bool\n",
       "lpg                  float64\n",
       "motion                  bool\n",
       "smoke                float64\n",
       "temp                 float64\n",
       "time_stamp    datetime64[ns]\n",
       "dtype: object"
      ]
     },
     "execution_count": 10,
     "metadata": {},
     "output_type": "execute_result"
    }
   ],
   "source": [
    "df.dtypes"
   ]
  },
  {
   "cell_type": "markdown",
   "id": "c22aad8b",
   "metadata": {},
   "source": [
    "<h2> Contexto destes dados no domínio e o que representam </h2>\n",
    "<p align =\"justify\"> Os dados do IoT frequentemente têm lacunas significativas, mensagens corrompidas e leituras falsas que devem ser limpas antes que a análise possa ocorrer. Além disso, os dados da IoT muitas vezes devem ser enriquecidos e transformados para serem significativos.</p>\n",
    "<p>Os dados apresentados são obtidos da exploração do uso de sensores ambientais, em tempo quase real, a partir de uma série de dispositivos IoT.    \n",
    "</p>\n",
    "<hr>\n",
    "<p>Os dados foram gerados a partir de uma série de três conjuntos de sensores idênticos, construídos sob medida, baseados em protoboards/breadboards. Cada matriz foi conectada a um dispositivo Raspberry Pi. Cada um dos três dispositivos IoT foi colocado em um local físico com condições ambientais variadas.</p>"
   ]
  },
  {
   "cell_type": "markdown",
   "id": "ddac387d",
   "metadata": {},
   "source": [
    "|endereço físico dos dispositivos||condições ambientais que representam|\n",
    "|-----------||------------------|\n",
    "|00:0f:00:70:91:0a||condição estavel, mais frio e húmido|\n",
    "|1c:bf:ce:15:ec:4d||temperatura e umidade altamente variáveis|\n",
    "| b8:27:eb:bf:9d:51||condições estáveis, mais calor e secas|"
   ]
  },
  {
   "cell_type": "markdown",
   "id": "da54955a",
   "metadata": {},
   "source": [
    "<h2> Quantidade de linhas e colunas de dataset, assim como os seus tipos ou domínio"
   ]
  },
  {
   "cell_type": "code",
   "execution_count": 11,
   "id": "44d6b455",
   "metadata": {},
   "outputs": [
    {
     "data": {
      "text/plain": [
       "(405184, 9)"
      ]
     },
     "execution_count": 11,
     "metadata": {},
     "output_type": "execute_result"
    }
   ],
   "source": [
    "# quantidade de linhas e colunas\n",
    "df.shape"
   ]
  },
  {
   "cell_type": "code",
   "execution_count": 12,
   "id": "fe687480",
   "metadata": {},
   "outputs": [
    {
     "data": {
      "text/plain": [
       "Index(['device', 'co', 'humidity', 'light', 'lpg', 'motion', 'smoke', 'temp',\n",
       "       'time_stamp'],\n",
       "      dtype='object')"
      ]
     },
     "execution_count": 12,
     "metadata": {},
     "output_type": "execute_result"
    }
   ],
   "source": [
    "# colunas presentes no dataset e seus tipos (domínios)\n",
    "df.columns"
   ]
  },
  {
   "cell_type": "code",
   "execution_count": 13,
   "id": "0d985082",
   "metadata": {},
   "outputs": [
    {
     "data": {
      "text/plain": [
       "device                object\n",
       "co                   float64\n",
       "humidity             float64\n",
       "light                   bool\n",
       "lpg                  float64\n",
       "motion                  bool\n",
       "smoke                float64\n",
       "temp                 float64\n",
       "time_stamp    datetime64[ns]\n",
       "dtype: object"
      ]
     },
     "execution_count": 13,
     "metadata": {},
     "output_type": "execute_result"
    }
   ],
   "source": [
    "# colunas presentes no dataset e seus tipos (domínios)\n",
    "df.dtypes"
   ]
  },
  {
   "cell_type": "markdown",
   "id": "1aa99d1c",
   "metadata": {},
   "source": [
    "<p> Portanto, há nove colunas no dataset e na tabela abaixo mostra os detalhes destas colunas.</p>"
   ]
  },
  {
   "cell_type": "markdown",
   "id": "f5c226d0",
   "metadata": {},
   "source": [
    "|coluna||descrição||unidades|\n",
    "|------||---------||--------|\n",
    "| ts       || timestamp of event   || epoch      |\n",
    "| device   || unique device name   || string     |\n",
    "| co       || carbon monoxide      || ppm (%)    |\n",
    "| humidity || humidity             || percentage |\n",
    "| light    || light detected?      || boolean    |\n",
    "| lpg      || liquid petroleum gas || ppm (%)    |\n",
    "| motion   || motion detected?     || boolean    |\n",
    "| smoke    || smoke                || ppm (%)    |\n",
    "| temp     || temperature          || Fahrenheit |\n"
   ]
  },
  {
   "cell_type": "markdown",
   "id": "b18c3ebf",
   "metadata": {},
   "source": [
    "<h2>Total de dados nulos</h2>"
   ]
  },
  {
   "cell_type": "code",
   "execution_count": 14,
   "id": "7a596e33",
   "metadata": {},
   "outputs": [
    {
     "data": {
      "text/plain": [
       "device        0\n",
       "co            0\n",
       "humidity      0\n",
       "light         0\n",
       "lpg           0\n",
       "motion        0\n",
       "smoke         0\n",
       "temp          0\n",
       "time_stamp    0\n",
       "dtype: int64"
      ]
     },
     "execution_count": 14,
     "metadata": {},
     "output_type": "execute_result"
    }
   ],
   "source": [
    "df.isnull().sum()"
   ]
  },
  {
   "cell_type": "markdown",
   "id": "b03d4bf9",
   "metadata": {},
   "source": [
    "<p style = \"align = justify\"> Portanto, pode-se ver que não existe valores nulos no conjunto de dados.</p>"
   ]
  },
  {
   "cell_type": "markdown",
   "id": "394ca4b0",
   "metadata": {},
   "source": [
    "<h2>Valores Repetidos</h2>"
   ]
  },
  {
   "cell_type": "code",
   "execution_count": 15,
   "id": "e6be5f38",
   "metadata": {},
   "outputs": [
    {
     "data": {
      "text/plain": [
       "13"
      ]
     },
     "execution_count": 15,
     "metadata": {},
     "output_type": "execute_result"
    }
   ],
   "source": [
    "df.duplicated().sum()"
   ]
  },
  {
   "cell_type": "code",
   "execution_count": 16,
   "id": "e8b41757",
   "metadata": {},
   "outputs": [
    {
     "data": {
      "text/html": [
       "<div>\n",
       "<style scoped>\n",
       "    .dataframe tbody tr th:only-of-type {\n",
       "        vertical-align: middle;\n",
       "    }\n",
       "\n",
       "    .dataframe tbody tr th {\n",
       "        vertical-align: top;\n",
       "    }\n",
       "\n",
       "    .dataframe thead th {\n",
       "        text-align: right;\n",
       "    }\n",
       "</style>\n",
       "<table border=\"1\" class=\"dataframe\">\n",
       "  <thead>\n",
       "    <tr style=\"text-align: right;\">\n",
       "      <th></th>\n",
       "      <th>device</th>\n",
       "      <th>co</th>\n",
       "      <th>humidity</th>\n",
       "      <th>light</th>\n",
       "      <th>lpg</th>\n",
       "      <th>motion</th>\n",
       "      <th>smoke</th>\n",
       "      <th>temp</th>\n",
       "      <th>time_stamp</th>\n",
       "    </tr>\n",
       "  </thead>\n",
       "  <tbody>\n",
       "    <tr>\n",
       "      <th>17987</th>\n",
       "      <td>1c:bf:ce:15:ec:4d</td>\n",
       "      <td>0.004078</td>\n",
       "      <td>74.199997</td>\n",
       "      <td>True</td>\n",
       "      <td>0.006644</td>\n",
       "      <td>False</td>\n",
       "      <td>0.017556</td>\n",
       "      <td>24.700001</td>\n",
       "      <td>2020-07-12 08:32:27.272352256</td>\n",
       "    </tr>\n",
       "    <tr>\n",
       "      <th>82095</th>\n",
       "      <td>1c:bf:ce:15:ec:4d</td>\n",
       "      <td>0.004310</td>\n",
       "      <td>61.700001</td>\n",
       "      <td>True</td>\n",
       "      <td>0.006916</td>\n",
       "      <td>False</td>\n",
       "      <td>0.018325</td>\n",
       "      <td>23.700001</td>\n",
       "      <td>2020-07-13 15:02:04.678796288</td>\n",
       "    </tr>\n",
       "    <tr>\n",
       "      <th>147647</th>\n",
       "      <td>b8:27:eb:bf:9d:51</td>\n",
       "      <td>0.005336</td>\n",
       "      <td>48.600000</td>\n",
       "      <td>False</td>\n",
       "      <td>0.008071</td>\n",
       "      <td>False</td>\n",
       "      <td>0.021610</td>\n",
       "      <td>22.600000</td>\n",
       "      <td>2020-07-14 22:14:33.272537344</td>\n",
       "    </tr>\n",
       "    <tr>\n",
       "      <th>155597</th>\n",
       "      <td>b8:27:eb:bf:9d:51</td>\n",
       "      <td>0.005370</td>\n",
       "      <td>46.400000</td>\n",
       "      <td>False</td>\n",
       "      <td>0.008108</td>\n",
       "      <td>False</td>\n",
       "      <td>0.021716</td>\n",
       "      <td>22.500000</td>\n",
       "      <td>2020-07-15 02:00:48.548809472</td>\n",
       "    </tr>\n",
       "    <tr>\n",
       "      <th>169440</th>\n",
       "      <td>1c:bf:ce:15:ec:4d</td>\n",
       "      <td>0.004009</td>\n",
       "      <td>54.900002</td>\n",
       "      <td>True</td>\n",
       "      <td>0.006563</td>\n",
       "      <td>False</td>\n",
       "      <td>0.017327</td>\n",
       "      <td>24.400000</td>\n",
       "      <td>2020-07-15 08:25:39.357345536</td>\n",
       "    </tr>\n",
       "    <tr>\n",
       "      <th>192426</th>\n",
       "      <td>b8:27:eb:bf:9d:51</td>\n",
       "      <td>0.005114</td>\n",
       "      <td>50.800000</td>\n",
       "      <td>False</td>\n",
       "      <td>0.007826</td>\n",
       "      <td>False</td>\n",
       "      <td>0.020912</td>\n",
       "      <td>22.700000</td>\n",
       "      <td>2020-07-15 19:17:36.161056512</td>\n",
       "    </tr>\n",
       "    <tr>\n",
       "      <th>257857</th>\n",
       "      <td>1c:bf:ce:15:ec:4d</td>\n",
       "      <td>0.003886</td>\n",
       "      <td>82.500000</td>\n",
       "      <td>True</td>\n",
       "      <td>0.006416</td>\n",
       "      <td>False</td>\n",
       "      <td>0.016913</td>\n",
       "      <td>24.000000</td>\n",
       "      <td>2020-07-17 02:08:02.730533120</td>\n",
       "    </tr>\n",
       "    <tr>\n",
       "      <th>297461</th>\n",
       "      <td>b8:27:eb:bf:9d:51</td>\n",
       "      <td>0.006076</td>\n",
       "      <td>50.200000</td>\n",
       "      <td>False</td>\n",
       "      <td>0.008866</td>\n",
       "      <td>False</td>\n",
       "      <td>0.023891</td>\n",
       "      <td>22.600000</td>\n",
       "      <td>2020-07-17 20:59:34.514902784</td>\n",
       "    </tr>\n",
       "    <tr>\n",
       "      <th>305562</th>\n",
       "      <td>1c:bf:ce:15:ec:4d</td>\n",
       "      <td>0.004207</td>\n",
       "      <td>60.200001</td>\n",
       "      <td>True</td>\n",
       "      <td>0.006796</td>\n",
       "      <td>False</td>\n",
       "      <td>0.017986</td>\n",
       "      <td>27.900000</td>\n",
       "      <td>2020-07-18 00:50:21.213881600</td>\n",
       "    </tr>\n",
       "    <tr>\n",
       "      <th>328880</th>\n",
       "      <td>b8:27:eb:bf:9d:51</td>\n",
       "      <td>0.005688</td>\n",
       "      <td>52.600000</td>\n",
       "      <td>False</td>\n",
       "      <td>0.008453</td>\n",
       "      <td>False</td>\n",
       "      <td>0.022704</td>\n",
       "      <td>22.200000</td>\n",
       "      <td>2020-07-18 11:57:00.358141952</td>\n",
       "    </tr>\n",
       "    <tr>\n",
       "      <th>334898</th>\n",
       "      <td>b8:27:eb:bf:9d:51</td>\n",
       "      <td>0.006120</td>\n",
       "      <td>51.900000</td>\n",
       "      <td>False</td>\n",
       "      <td>0.008912</td>\n",
       "      <td>False</td>\n",
       "      <td>0.024024</td>\n",
       "      <td>21.500000</td>\n",
       "      <td>2020-07-18 14:50:31.409988352</td>\n",
       "    </tr>\n",
       "    <tr>\n",
       "      <th>353907</th>\n",
       "      <td>b8:27:eb:bf:9d:51</td>\n",
       "      <td>0.006034</td>\n",
       "      <td>52.100000</td>\n",
       "      <td>False</td>\n",
       "      <td>0.008822</td>\n",
       "      <td>False</td>\n",
       "      <td>0.023765</td>\n",
       "      <td>22.600000</td>\n",
       "      <td>2020-07-19 00:01:15.810328064</td>\n",
       "    </tr>\n",
       "    <tr>\n",
       "      <th>362072</th>\n",
       "      <td>b8:27:eb:bf:9d:51</td>\n",
       "      <td>0.005892</td>\n",
       "      <td>50.800000</td>\n",
       "      <td>False</td>\n",
       "      <td>0.008671</td>\n",
       "      <td>False</td>\n",
       "      <td>0.023330</td>\n",
       "      <td>22.400000</td>\n",
       "      <td>2020-07-19 03:54:33.955043584</td>\n",
       "    </tr>\n",
       "  </tbody>\n",
       "</table>\n",
       "</div>"
      ],
      "text/plain": [
       "                   device        co   humidity  light       lpg  motion  \\\n",
       "17987   1c:bf:ce:15:ec:4d  0.004078  74.199997   True  0.006644   False   \n",
       "82095   1c:bf:ce:15:ec:4d  0.004310  61.700001   True  0.006916   False   \n",
       "147647  b8:27:eb:bf:9d:51  0.005336  48.600000  False  0.008071   False   \n",
       "155597  b8:27:eb:bf:9d:51  0.005370  46.400000  False  0.008108   False   \n",
       "169440  1c:bf:ce:15:ec:4d  0.004009  54.900002   True  0.006563   False   \n",
       "192426  b8:27:eb:bf:9d:51  0.005114  50.800000  False  0.007826   False   \n",
       "257857  1c:bf:ce:15:ec:4d  0.003886  82.500000   True  0.006416   False   \n",
       "297461  b8:27:eb:bf:9d:51  0.006076  50.200000  False  0.008866   False   \n",
       "305562  1c:bf:ce:15:ec:4d  0.004207  60.200001   True  0.006796   False   \n",
       "328880  b8:27:eb:bf:9d:51  0.005688  52.600000  False  0.008453   False   \n",
       "334898  b8:27:eb:bf:9d:51  0.006120  51.900000  False  0.008912   False   \n",
       "353907  b8:27:eb:bf:9d:51  0.006034  52.100000  False  0.008822   False   \n",
       "362072  b8:27:eb:bf:9d:51  0.005892  50.800000  False  0.008671   False   \n",
       "\n",
       "           smoke       temp                    time_stamp  \n",
       "17987   0.017556  24.700001 2020-07-12 08:32:27.272352256  \n",
       "82095   0.018325  23.700001 2020-07-13 15:02:04.678796288  \n",
       "147647  0.021610  22.600000 2020-07-14 22:14:33.272537344  \n",
       "155597  0.021716  22.500000 2020-07-15 02:00:48.548809472  \n",
       "169440  0.017327  24.400000 2020-07-15 08:25:39.357345536  \n",
       "192426  0.020912  22.700000 2020-07-15 19:17:36.161056512  \n",
       "257857  0.016913  24.000000 2020-07-17 02:08:02.730533120  \n",
       "297461  0.023891  22.600000 2020-07-17 20:59:34.514902784  \n",
       "305562  0.017986  27.900000 2020-07-18 00:50:21.213881600  \n",
       "328880  0.022704  22.200000 2020-07-18 11:57:00.358141952  \n",
       "334898  0.024024  21.500000 2020-07-18 14:50:31.409988352  \n",
       "353907  0.023765  22.600000 2020-07-19 00:01:15.810328064  \n",
       "362072  0.023330  22.400000 2020-07-19 03:54:33.955043584  "
      ]
     },
     "execution_count": 16,
     "metadata": {},
     "output_type": "execute_result"
    }
   ],
   "source": [
    "df.loc[df.duplicated(),:]"
   ]
  },
  {
   "cell_type": "markdown",
   "id": "8da25143",
   "metadata": {},
   "source": [
    "<p style = \"align:justify\"> Logo, existe 13 valores repetidos neste conjunto de dados.</p>"
   ]
  },
  {
   "cell_type": "markdown",
   "id": "4356738e",
   "metadata": {},
   "source": [
    "<h2> Dados incompletos </h2>"
   ]
  },
  {
   "cell_type": "code",
   "execution_count": 17,
   "id": "9ab47aa3",
   "metadata": {},
   "outputs": [
    {
     "data": {
      "text/plain": [
       "device        0\n",
       "co            0\n",
       "humidity      0\n",
       "light         0\n",
       "lpg           0\n",
       "motion        0\n",
       "smoke         0\n",
       "temp          0\n",
       "time_stamp    0\n",
       "dtype: int64"
      ]
     },
     "execution_count": 17,
     "metadata": {},
     "output_type": "execute_result"
    }
   ],
   "source": [
    "df.isna().sum()"
   ]
  },
  {
   "cell_type": "markdown",
   "id": "f9313d18",
   "metadata": {},
   "source": [
    "<p style = \"align: justify\"> Logo, visto que não existe valores incompletos neste dataset. </p>"
   ]
  },
  {
   "cell_type": "markdown",
   "id": "91f5ddf7",
   "metadata": {},
   "source": [
    "<h2>Outliers</h2>"
   ]
  },
  {
   "cell_type": "code",
   "execution_count": 18,
   "id": "bb97ab35",
   "metadata": {},
   "outputs": [
    {
     "data": {
      "image/png": "[encoded data removed]",
      "text/plain": [
       "<Figure size 640x480 with 1 Axes>"
      ]
     },
     "metadata": {
      "needs_background": "light"
     },
     "output_type": "display_data"
    }
   ],
   "source": [
    "from matplotlib.pyplot import figure \n",
    "figure(figsize=(8,6), dpi=80)\n",
    "df.boxplot(column=['co', 'lpg', 'smoke'])\n",
    "plt.show()"
   ]
  },
  {
   "cell_type": "code",
   "execution_count": 19,
   "id": "197d4a71",
   "metadata": {},
   "outputs": [
    {
     "data": {
      "image/png": "[encoded data removed]",
      "text/plain": [
       "<Figure size 640x480 with 1 Axes>"
      ]
     },
     "metadata": {
      "needs_background": "light"
     },
     "output_type": "display_data"
    }
   ],
   "source": [
    "figure(figsize=(8,6),dpi=80)\n",
    "df.boxplot(column='temp')\n",
    "plt.show()"
   ]
  },
  {
   "cell_type": "code",
   "execution_count": 20,
   "id": "e3b38d90",
   "metadata": {},
   "outputs": [
    {
     "data": {
      "image/png": "[encoded data removed]",
      "text/plain": [
       "<Figure size 640x480 with 1 Axes>"
      ]
     },
     "metadata": {
      "needs_background": "light"
     },
     "output_type": "display_data"
    }
   ],
   "source": [
    "figure(figsize=(8,6),dpi=80)\n",
    "df.boxplot(column='humidity')\n",
    "plt.show()"
   ]
  },
  {
   "cell_type": "markdown",
   "id": "f15c0123",
   "metadata": {},
   "source": [
    "<p>A partir dos três gráficos de boxplots mostrado, visto que existe outliers neste conjunto de dados.</p>"
   ]
  },
  {
   "cell_type": "markdown",
   "id": "1353fd92",
   "metadata": {},
   "source": [
    "<h2> Resumo estatística descritiva </h2>"
   ]
  },
  {
   "cell_type": "code",
   "execution_count": 21,
   "id": "1ccab278",
   "metadata": {},
   "outputs": [
    {
     "data": {
      "text/html": [
       "<div>\n",
       "<style scoped>\n",
       "    .dataframe tbody tr th:only-of-type {\n",
       "        vertical-align: middle;\n",
       "    }\n",
       "\n",
       "    .dataframe tbody tr th {\n",
       "        vertical-align: top;\n",
       "    }\n",
       "\n",
       "    .dataframe thead th {\n",
       "        text-align: right;\n",
       "    }\n",
       "</style>\n",
       "<table border=\"1\" class=\"dataframe\">\n",
       "  <thead>\n",
       "    <tr style=\"text-align: right;\">\n",
       "      <th></th>\n",
       "      <th>co</th>\n",
       "      <th>humidity</th>\n",
       "      <th>lpg</th>\n",
       "      <th>smoke</th>\n",
       "      <th>temp</th>\n",
       "    </tr>\n",
       "  </thead>\n",
       "  <tbody>\n",
       "    <tr>\n",
       "      <th>count</th>\n",
       "      <td>405184.000000</td>\n",
       "      <td>405184.000000</td>\n",
       "      <td>405184.000000</td>\n",
       "      <td>405184.000000</td>\n",
       "      <td>405184.000000</td>\n",
       "    </tr>\n",
       "    <tr>\n",
       "      <th>mean</th>\n",
       "      <td>0.004639</td>\n",
       "      <td>60.511694</td>\n",
       "      <td>0.007237</td>\n",
       "      <td>0.019264</td>\n",
       "      <td>22.453987</td>\n",
       "    </tr>\n",
       "    <tr>\n",
       "      <th>std</th>\n",
       "      <td>0.001250</td>\n",
       "      <td>11.366489</td>\n",
       "      <td>0.001444</td>\n",
       "      <td>0.004086</td>\n",
       "      <td>2.698347</td>\n",
       "    </tr>\n",
       "    <tr>\n",
       "      <th>min</th>\n",
       "      <td>0.001171</td>\n",
       "      <td>1.100000</td>\n",
       "      <td>0.002693</td>\n",
       "      <td>0.006692</td>\n",
       "      <td>0.000000</td>\n",
       "    </tr>\n",
       "    <tr>\n",
       "      <th>25%</th>\n",
       "      <td>0.003919</td>\n",
       "      <td>51.000000</td>\n",
       "      <td>0.006456</td>\n",
       "      <td>0.017024</td>\n",
       "      <td>19.900000</td>\n",
       "    </tr>\n",
       "    <tr>\n",
       "      <th>50%</th>\n",
       "      <td>0.004812</td>\n",
       "      <td>54.900000</td>\n",
       "      <td>0.007489</td>\n",
       "      <td>0.019950</td>\n",
       "      <td>22.200000</td>\n",
       "    </tr>\n",
       "    <tr>\n",
       "      <th>75%</th>\n",
       "      <td>0.005409</td>\n",
       "      <td>74.300003</td>\n",
       "      <td>0.008150</td>\n",
       "      <td>0.021838</td>\n",
       "      <td>23.600000</td>\n",
       "    </tr>\n",
       "    <tr>\n",
       "      <th>max</th>\n",
       "      <td>0.014420</td>\n",
       "      <td>99.900002</td>\n",
       "      <td>0.016567</td>\n",
       "      <td>0.046590</td>\n",
       "      <td>30.600000</td>\n",
       "    </tr>\n",
       "  </tbody>\n",
       "</table>\n",
       "</div>"
      ],
      "text/plain": [
       "                  co       humidity            lpg          smoke  \\\n",
       "count  405184.000000  405184.000000  405184.000000  405184.000000   \n",
       "mean        0.004639      60.511694       0.007237       0.019264   \n",
       "std         0.001250      11.366489       0.001444       0.004086   \n",
       "min         0.001171       1.100000       0.002693       0.006692   \n",
       "25%         0.003919      51.000000       0.006456       0.017024   \n",
       "50%         0.004812      54.900000       0.007489       0.019950   \n",
       "75%         0.005409      74.300003       0.008150       0.021838   \n",
       "max         0.014420      99.900002       0.016567       0.046590   \n",
       "\n",
       "                temp  \n",
       "count  405184.000000  \n",
       "mean       22.453987  \n",
       "std         2.698347  \n",
       "min         0.000000  \n",
       "25%        19.900000  \n",
       "50%        22.200000  \n",
       "75%        23.600000  \n",
       "max        30.600000  "
      ]
     },
     "execution_count": 21,
     "metadata": {},
     "output_type": "execute_result"
    }
   ],
   "source": [
    "df.describe()"
   ]
  },
  {
   "cell_type": "markdown",
   "id": "edb82ab6",
   "metadata": {},
   "source": [
    "<h2> Gráficos de distribuição"
   ]
  },
  {
   "cell_type": "code",
   "execution_count": 22,
   "id": "694d84b0",
   "metadata": {},
   "outputs": [
    {
     "data": {
      "image/png": "[encoded data removed]",
      "text/plain": [
       "<Figure size 432x288 with 1 Axes>"
      ]
     },
     "metadata": {
      "needs_background": "light"
     },
     "output_type": "display_data"
    }
   ],
   "source": [
    "ax = df.hist(column='co', bins=20, alpha =0.5, color ='r')\n",
    "plt.show()"
   ]
  },
  {
   "cell_type": "code",
   "execution_count": 23,
   "id": "026045b8",
   "metadata": {},
   "outputs": [
    {
     "data": {
      "image/png": "[encoded data removed]",
      "text/plain": [
       "<Figure size 432x288 with 1 Axes>"
      ]
     },
     "metadata": {
      "needs_background": "light"
     },
     "output_type": "display_data"
    }
   ],
   "source": [
    "ax = df.hist(column='humidity', bins=20, alpha =0.5, color ='r')\n",
    "plt.show()"
   ]
  },
  {
   "cell_type": "code",
   "execution_count": 24,
   "id": "d62da496",
   "metadata": {},
   "outputs": [
    {
     "data": {
      "image/png": "[encoded data removed]",
      "text/plain": [
       "<Figure size 432x288 with 1 Axes>"
      ]
     },
     "metadata": {
      "needs_background": "light"
     },
     "output_type": "display_data"
    }
   ],
   "source": [
    "ax = df.hist(column='lpg', bins=20, alpha =0.5, color ='r')\n",
    "plt.show()"
   ]
  },
  {
   "cell_type": "code",
   "execution_count": 25,
   "id": "00f52d46",
   "metadata": {},
   "outputs": [
    {
     "data": {
      "image/png": "[encoded data removed]",
      "text/plain": [
       "<Figure size 432x288 with 1 Axes>"
      ]
     },
     "metadata": {
      "needs_background": "light"
     },
     "output_type": "display_data"
    }
   ],
   "source": [
    "ax = df.hist(column='smoke', bins=20, alpha =0.5, color ='r')\n",
    "plt.show()"
   ]
  },
  {
   "cell_type": "markdown",
   "id": "df079e7a",
   "metadata": {},
   "source": [
    "<h2> Análise de Correlação </h2>"
   ]
  },
  {
   "cell_type": "code",
   "execution_count": 26,
   "id": "f08fb894",
   "metadata": {},
   "outputs": [
    {
     "data": {
      "image/png": "[encoded data removed]",
      "text/plain": [
       "<Figure size 1152x432 with 2 Axes>"
      ]
     },
     "metadata": {
      "needs_background": "light"
     },
     "output_type": "display_data"
    }
   ],
   "source": [
    "correlation = df.corr().round(2)\n",
    "plt.figure(figsize = (16,6))\n",
    "sns.heatmap(correlation, xticklabels = correlation.columns, yticklabels = correlation.columns, annot = True)\n",
    "plt.show()"
   ]
  },
  {
   "cell_type": "code",
   "execution_count": null,
   "id": "f1ffebc6",
   "metadata": {},
   "outputs": [],
   "source": []
  }
 ],
 "metadata": {
  "kernelspec": {
   "display_name": "Python 3 (ipykernel)",
   "language": "python",
   "name": "python3"
  },
  "language_info": {
   "codemirror_mode": {
    "name": "ipython",
    "version": 3
   },
   "file_extension": ".py",
   "mimetype": "text/x-python",
   "name": "python",
   "nbconvert_exporter": "python",
   "pygments_lexer": "ipython3",
   "version": "3.10.3"
  }
 },
 "nbformat": 4,
 "nbformat_minor": 5
}
